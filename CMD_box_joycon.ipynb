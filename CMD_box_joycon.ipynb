{
 "cells": [
  {
   "cell_type": "markdown",
   "metadata": {
    "vscode": {
     "languageId": "shellscript"
    }
   },
   "source": [
    "# (〇)安装Lerobot"
   ]
  },
  {
   "cell_type": "markdown",
   "metadata": {},
   "source": [
    "### 0. 系统要求\n",
    "\n",
    "  1. Ubuntu 20.04\n",
    "  2. 有蓝牙"
   ]
  },
  {
   "cell_type": "markdown",
   "metadata": {},
   "source": [
    "### 1. 安装Miniconda"
   ]
  },
  {
   "cell_type": "code",
   "execution_count": null,
   "metadata": {
    "vscode": {
     "languageId": "shellscript"
    }
   },
   "outputs": [],
   "source": [
    "mkdir -p ~/miniconda3\n",
    "wget https://repo.anaconda.com/miniconda/Miniconda3-latest-Linux-x86_64.sh -O ~/miniconda3/miniconda.sh\n",
    "bash ~/miniconda3/miniconda.sh -b -u -p ~/miniconda3\n",
    "rm ~/miniconda3/miniconda.sh\n",
    "~/miniconda3/bin/conda init bash"
   ]
  },
  {
   "cell_type": "markdown",
   "metadata": {
    "vscode": {
     "languageId": "shellscript"
    }
   },
   "source": [
    "### 2. 使用conda配置lerobot环境"
   ]
  },
  {
   "cell_type": "code",
   "execution_count": null,
   "metadata": {
    "vscode": {
     "languageId": "shellscript"
    }
   },
   "outputs": [],
   "source": [
    "conda create -y -n lerobot python=3.10\n",
    "conda activate lerobot\n",
    "cd lerobot\n",
    "pip install -e .\n",
    "\n",
    "# 使用飞特舵机的版本\n",
    "pip install -e \".[feetech]\"\n",
    "conda install -y -c conda-forge ffmpeg\n",
    "pip uninstall -y opencv-python\n",
    "conda install -y -c conda-forge \"opencv>=4.10.0\"\n",
    "\n"
   ]
  },
  {
   "cell_type": "markdown",
   "metadata": {
    "vscode": {
     "languageId": "shellscript"
    }
   },
   "source": [
    "！！ 如果你遇到报错，请检查是否报错中存在 ``network`` ， ``timeout``等网络问题，请检查pip是否更换为国内镜像源，具体参考[pip清华源替换](https://mirrors.tuna.tsinghua.edu.cn/help/pypi/)，[Ubuntu清华源替换](https://mirrors.tuna.tsinghua.edu.cn/help/ubuntu/)\n",
    "\n",
    "另外推荐Clash梯子为终端开启代理，这样更适合后续科研"
   ]
  },
  {
   "cell_type": "markdown",
   "metadata": {
    "vscode": {
     "languageId": "shellscript"
    }
   },
   "source": [
    "### 3. Lerobot 目录简述"
   ]
  },
  {
   "cell_type": "markdown",
   "metadata": {
    "vscode": {
     "languageId": "shellscript"
    }
   },
   "source": [
    "  1. 主要的模型和配置文件在``lerobot``中，其余同级目录如docker,media等不重要\n",
    "  \n",
    "  2. 主要**配置**文件夹是``lerobot/configs``，其中重点关注，``机器人(robot)``，``模型(policy)``的``lerobot/configs/robot/so100.yaml``，``/home/boxjod/lerobot/New/lerobot/lerobot/configs/policy/act_so100_real.yaml``\n",
    "  \n",
    "  3. ``lerobot/scripts``中的``lerobot/scripts/control_robot.py``是控制机器人的入口python程序。\n",
    "  \n",
    "  4. **模型训练和推理**的主要文件是：``训练 lerobot/scripts/train.py``， ``推理 lerobot/scripts/eval.py``\n",
    "  \n",
    "  5. 其余的文件和目录入门之后可自行探索。"
   ]
  },
  {
   "cell_type": "markdown",
   "metadata": {
    "vscode": {
     "languageId": "shellscript"
    }
   },
   "source": [
    "----"
   ]
  },
  {
   "cell_type": "markdown",
   "metadata": {},
   "source": [
    "# (一)设备号查询"
   ]
  },
  {
   "cell_type": "markdown",
   "metadata": {
    "vscode": {
     "languageId": "shellscript"
    }
   },
   "source": [
    "### 1. 机械臂端口号查询"
   ]
  },
  {
   "cell_type": "markdown",
   "metadata": {
    "vscode": {
     "languageId": "shellscript"
    }
   },
   "source": [
    "使用步骤：\n",
    "  1. 插上机械臂驱动板，\n",
    "  2. 打开一个终端窗口，输入如下指令"
   ]
  },
  {
   "cell_type": "code",
   "execution_count": null,
   "metadata": {
    "vscode": {
     "languageId": "shellscript"
    }
   },
   "outputs": [],
   "source": [
    "python lerobot/scripts/find_motors_bus_port.py"
   ]
  },
  {
   "cell_type": "markdown",
   "metadata": {},
   "source": [
    "  3. **拔掉**机械臂的驱动板USB，\n",
    "  4. 在输入指令的终端窗口敲击回车，即可检测到拔掉的是哪个端口\n",
    "  5. 更新到 ``lerobot/configs/robot/so100.yaml`` 中的 ``port``中，对应好主臂和从臂"
   ]
  },
  {
   "cell_type": "markdown",
   "metadata": {
    "vscode": {
     "languageId": "shellscript"
    }
   },
   "source": [
    "### 2.设备号固定为自定义端口（Box推荐）"
   ]
  },
  {
   "cell_type": "markdown",
   "metadata": {},
   "source": [
    "写入设备rules，保证每次机械臂顺序插的不一样也可以读取到正确的端口ID，避免左右臂插的顺序错误导致校准文件读取错误，错误运行损坏机械臂。配置步骤如下："
   ]
  },
  {
   "cell_type": "markdown",
   "metadata": {
    "vscode": {
     "languageId": "shellscript"
    }
   },
   "source": [
    "  1. 插入左边的机械臂（放置到左边自行记忆即可），这里``只能插入一根机械臂``到USB口，输入以下指令："
   ]
  },
  {
   "cell_type": "code",
   "execution_count": null,
   "metadata": {
    "vscode": {
     "languageId": "shellscript"
    }
   },
   "outputs": [],
   "source": [
    "udevadm info -a -n /dev/ttyACM* | grep serial\n",
    "\n",
    "# 将输出类似ID号：\n",
    "#     ATTRS{serial}==\"58FA083324\"\n",
    "#     ATTRS{serial}==\"0000:00:14.0\""
   ]
  },
  {
   "cell_type": "markdown",
   "metadata": {},
   "source": [
    "  2. 将输出的上面的编码值输入到99-lerobot-serial.rules的第1行ATTRS{serial}中代表着lerobot_tty0左臂或者主臂\n",
    "  3. 拔掉刚才的机械臂，插上另一个机械臂（期望是右边的，或者是从臂），查看ID"
   ]
  },
  {
   "cell_type": "code",
   "execution_count": null,
   "metadata": {
    "vscode": {
     "languageId": "shellscript"
    }
   },
   "outputs": [],
   "source": [
    "udevadm info -a -n /dev/ttyACM* | grep serial"
   ]
  },
  {
   "cell_type": "markdown",
   "metadata": {
    "vscode": {
     "languageId": "shellscript"
    }
   },
   "source": [
    "  4. 将输出的ID输入到 [99-lerobot-serial.rules](lerobot/configs/robot/rules/99-lerobot-serial.rules) 的第2行ATTRS{serial}中代表着lerobot_tty1右臂或者从臂\n",
    "  5. 将规则文件写入Ubuntu系统目录"
   ]
  },
  {
   "cell_type": "code",
   "execution_count": null,
   "metadata": {
    "vscode": {
     "languageId": "shellscript"
    }
   },
   "outputs": [],
   "source": [
    "sudo cp lerobot/configs/robot/rules/99-lerobot-serial.rules /etc/udev/rules.d/\n",
    "sudo chmod +x /etc/udev/rules.d/arx_can.rules\n",
    "sudo udevadm control --reload-rules && sudo udevadm trigger"
   ]
  },
  {
   "cell_type": "markdown",
   "metadata": {
    "vscode": {
     "languageId": "shellscript"
    }
   },
   "source": [
    "  6. 更新到 ``lerobot/configs/robot/so100.yaml`` 中的，主臂的port改成``/dev/lerobot_tty0``，从臂改成``/dev/lerobot_tty1``.（这是在99-lerobot-serial.rules中设置的）"
   ]
  },
  {
   "cell_type": "markdown",
   "metadata": {
    "vscode": {
     "languageId": "shellscript"
    }
   },
   "source": [
    "----"
   ]
  },
  {
   "cell_type": "markdown",
   "metadata": {
    "vscode": {
     "languageId": "shellscript"
    }
   },
   "source": [
    "## (二)校准机械臂"
   ]
  },
  {
   "cell_type": "markdown",
   "metadata": {},
   "source": [
    "### 1. 校准指令"
   ]
  },
  {
   "cell_type": "code",
   "execution_count": null,
   "metadata": {
    "vscode": {
     "languageId": "shellscript"
    }
   },
   "outputs": [],
   "source": [
    "# 注意，每次校准会删除之前的校准文件，如果提前终止或者报错结束，将不存在校准文件\n",
    "python lerobot/scripts/control_robot.py calibrate \\\n",
    "    --robot-path lerobot/configs/robot/so100.yaml \\\n",
    "    --robot-overrides '~cameras'"
   ]
  },
  {
   "cell_type": "markdown",
   "metadata": {
    "vscode": {
     "languageId": "shellscript"
    }
   },
   "source": [
    "!! 如果你遇到报错 undefined symbol: __nvJitLinkComplete_12_4, version libnvJitLink.so.12，是因为torch版本的问题，请执行以下指令：\n",
    "\n",
    "```shell\n",
    "  python -m pip uninstall torch torchvision torchaudio\n",
    "  python -m pip install --pre torch torchvision torchaudio --index-url https://download.pytorch.org/whl/nightly/cu121\n",
    "```"
   ]
  },
  {
   "cell_type": "markdown",
   "metadata": {
    "vscode": {
     "languageId": "shellscript"
    }
   },
   "source": [
    "| 1. Leader Zero position | 2. Leader Rotated position | 3. Leader Rest position |\n",
    "|---|---|---|\n",
    "| <img src=\"./media/so100/leader_zero.webp?raw=true\" alt=\"SO-100 leader arm zero position\" title=\"SO-100 leader arm zero position\" style=\"max-width: 300px; height: auto;\"> | <img src=\"./media/so100/leader_rotated.webp?raw=true\" alt=\"SO-100 leader arm rotated position\" title=\"SO-100 leader arm rotated position\" style=\"max-width: 300px; height: auto;\"> | <img src=\"./media/so100/leader_rest.webp?raw=true\" alt=\"SO-100 leader arm rest position\" title=\"SO-100 leader arm rest position\" style=\"max-width: 300px; height: auto;\"> |\n"
   ]
  },
  {
   "cell_type": "markdown",
   "metadata": {},
   "source": [
    "| 1. Follower Zero position | 2. Follower Rotated position | 3. Follower Rest position |\n",
    "|---|---|---|\n",
    "| <img src=\"./media/so100/follower_zero.webp?raw=true\" alt=\"SO-100 follower arm zero position\" title=\"SO-100 follower arm zero position\" style=\"max-width: 300px; height: auto;\"> | <img src=\"./media/so100/follower_rotated.webp?raw=true\" alt=\"SO-100 follower arm rotated position\" title=\"SO-100 follower arm rotated position\" style=\"max-width: 300px; height: auto;\"> | <img src=\"./media/so100/follower_rest.webp?raw=true\" alt=\"SO-100 follower arm rest position\" title=\"SO-100 follower arm rest position\" style=\"max-width: 300px; height: auto;\"> |\n"
   ]
  },
  {
   "cell_type": "markdown",
   "metadata": {},
   "source": [
    "### 2. 无相机观察的遥操作测试（左臂遥控右臂）"
   ]
  },
  {
   "cell_type": "code",
   "execution_count": null,
   "metadata": {
    "vscode": {
     "languageId": "shellscript"
    }
   },
   "outputs": [],
   "source": [
    "python lerobot/scripts/control_robot.py teleoperate \\\n",
    "    --robot-path lerobot/configs/robot/so100.yaml \\\n",
    "    --robot-overrides '~cameras' \\\n",
    "    --display-cameras 0"
   ]
  },
  {
   "cell_type": "markdown",
   "metadata": {},
   "source": [
    "----"
   ]
  },
  {
   "cell_type": "markdown",
   "metadata": {},
   "source": [
    "## (三)记录数据集"
   ]
  },
  {
   "cell_type": "markdown",
   "metadata": {
    "vscode": {
     "languageId": "shellscript"
    }
   },
   "source": [
    "### 1. 查看相机"
   ]
  },
  {
   "cell_type": "code",
   "execution_count": null,
   "metadata": {
    "vscode": {
     "languageId": "shellscript"
    }
   },
   "outputs": [],
   "source": [
    "python lerobot/common/robot_devices/cameras/opencv.py"
   ]
  },
  {
   "cell_type": "markdown",
   "metadata": {},
   "source": [
    "输出信息中应当关注的是：\n",
    "\n",
    "  OpenCVCamera(2, fps=10, width=640, height=480, color_mode=rgb)\n",
    "  \n",
    "  OpenCVCamera(0, fps=30, width=640, height=480, color_mode=rgb)\n",
    "\n",
    "其中0是笔记本电脑的自带摄像头"
   ]
  },
  {
   "cell_type": "markdown",
   "metadata": {
    "vscode": {
     "languageId": "shellscript"
    }
   },
   "source": [
    "### 2. 配置相机参数"
   ]
  },
  {
   "cell_type": "markdown",
   "metadata": {
    "vscode": {
     "languageId": "shellscript"
    }
   },
   "source": [
    "进入``lerobot/configs/robot/so100.yaml``中修改``camera``信息，如果没有使用到手机则注释掉\n",
    "```yaml\n",
    "# phone:\n",
    "  #   _target_: lerobot.common.robot_devices.cameras.opencv.OpenCVCamera\n",
    "  #   camera_index: 1\n",
    "  #   fps: 30\n",
    "  #   width: 640\n",
    "  #   height: 480\n",
    "```\n",
    "\n",
    "如果使用Box-Arm-V1 Camera 50Hz相机，则需要对应camera_index改为2，需要到 ``lerobot/common/robot_devices/cameras/opencv.py`` 的339行加入，如下代码选择相机的视频格式：上面的代码是：“self.camera = cv2.VideoCapture(camera_idx)”\n"
   ]
  },
  {
   "cell_type": "code",
   "execution_count": null,
   "metadata": {
    "vscode": {
     "languageId": "shellscript"
    }
   },
   "outputs": [],
   "source": [
    "        self.camera.set(cv2.CAP_PROP_FOURCC, cv2.VideoWriter.fourcc(\"M\", \"J\", \"P\", \"G\"))\n",
    "        self.camera.set(cv2.CAP_PROP_FPS, 60)"
   ]
  },
  {
   "cell_type": "markdown",
   "metadata": {
    "vscode": {
     "languageId": "shellscript"
    }
   },
   "source": [
    "### 3. 进行带相机图像的可视化遥操"
   ]
  },
  {
   "cell_type": "code",
   "execution_count": null,
   "metadata": {
    "vscode": {
     "languageId": "shellscript"
    }
   },
   "outputs": [],
   "source": [
    "python lerobot/scripts/control_robot.py teleoperate \\\n",
    "    --robot-path lerobot/configs/robot/so100.yaml "
   ]
  },
  {
   "cell_type": "markdown",
   "metadata": {
    "vscode": {
     "languageId": "shellscript"
    }
   },
   "source": [
    "!! 如果你遇到报错 undefined symbol: __nvJitLinkComplete_12_4, version libnvJitLink.so.12，是因为torch版本的问题，请执行以下指令：\n",
    "```shell\n",
    "  python -m pip uninstall torch torchvision torchaudio\n",
    "  python -m pip install --pre torch torchvision torchaudio --index-url https://download.pytorch.org/whl/nightly/cu121\n",
    "```\n",
    "如果在lerobot工作空间安装了genesis会影响到torch版本，这个时候就要重新安装一下torch"
   ]
  },
  {
   "cell_type": "markdown",
   "metadata": {},
   "source": [
    "### 4. 录制数据集"
   ]
  },
  {
   "cell_type": "code",
   "execution_count": null,
   "metadata": {
    "vscode": {
     "languageId": "shellscript"
    }
   },
   "outputs": [],
   "source": [
    "python lerobot/scripts/control_robot.py record \\\n",
    "    --robot-path lerobot/configs/robot/so100.yaml \\\n",
    "    --fps 30 \\\n",
    "    --tags so100 tutorial \\\n",
    "    --warmup-time-s 5 \\\n",
    "    --episode-time-s 40 \\\n",
    "    --reset-time-s 10 \\\n",
    "    --num-episodes 2 \\\n",
    "    --push-to-hub 0 \\\n",
    "    --root datasets/so100_test \\\n",
    "    --repo-id task/so100_test \\\n",
    "    --single-task so100_test"
   ]
  },
  {
   "cell_type": "markdown",
   "metadata": {
    "vscode": {
     "languageId": "shellscript"
    }
   },
   "source": [
    "1）重要参数说明：\n",
    "\n",
    "  1. ``robot-path``：对应的机器人参数配置文件\n",
    "  2. ``fps``:相机帧数\n",
    "  3. ``num-episodes``:本轮采集的轮数\n",
    "  4. ``root``:保存路径\n",
    "\n",
    "2）使用说明：\n",
    "  1. 脚本启动轮动帧数，即开始录制\n",
    "  2. ``键盘右箭头 ^``：完成当前任务，保存，并准备下一次任务数据集录制\n",
    "  3. ``键盘上箭头 >``：等待10秒后重新录制当前剧集(episode)"
   ]
  },
  {
   "cell_type": "markdown",
   "metadata": {
    "vscode": {
     "languageId": "shellscript"
    }
   },
   "source": [
    "！！如果，运行之后终端卡死，从臂不跟着主臂一起动，则是因为cv没办法可视化(display)的原因\n",
    "```shell\n",
    "conda install -y -c conda-forge ffmpeg\n",
    "pip uninstall -y opencv-python\n",
    "conda install -y -c conda-forge \"opencv>=4.10.0\"\n",
    "```"
   ]
  },
  {
   "cell_type": "markdown",
   "metadata": {},
   "source": [
    "### 5. 可视化数据集\n",
    "可以查看录制的轨迹数据，包括图像和轨迹姿态"
   ]
  },
  {
   "cell_type": "code",
   "execution_count": null,
   "metadata": {
    "vscode": {
     "languageId": "shellscript"
    }
   },
   "outputs": [],
   "source": [
    "python lerobot/scripts/visualize_dataset.py \\\n",
    "    --root datasets/so100_test \\\n",
    "    --local-files-only 1 \\\n",
    "    --mode 0 \\\n",
    "    --repo-id task/so100_test \\\n",
    "    --episode-index 0 \\\n",
    "    --save 1 \\\n",
    "    --output-dir datasets/so100_test/visualize\n",
    "    \n",
    "rerun datasets/so100_test/visualize/task_so100_test_episode_0.rrd"
   ]
  },
  {
   "cell_type": "markdown",
   "metadata": {},
   "source": [
    "<img src=\"media/rerun.png\" style=\"width: 600px;\" />"
   ]
  },
  {
   "cell_type": "markdown",
   "metadata": {},
   "source": [
    "### 6. 重播数据集\n",
    "机械臂将重复曾经录制的一个轨迹"
   ]
  },
  {
   "cell_type": "code",
   "execution_count": null,
   "metadata": {
    "vscode": {
     "languageId": "shellscript"
    }
   },
   "outputs": [],
   "source": [
    "DATA_DIR=data python lerobot/scripts/control_robot.py replay \\\n",
    "    --robot-path lerobot/configs/robot/so100.yaml \\\n",
    "    --fps 30 \\\n",
    "    --root datasets/so100_test \\\n",
    "    --repo-id task/so100_test \\\n",
    "    --episode 0 \\\n",
    "    --local-files-only 1"
   ]
  },
  {
   "cell_type": "markdown",
   "metadata": {},
   "source": [
    "----"
   ]
  },
  {
   "cell_type": "markdown",
   "metadata": {},
   "source": [
    "## (四)本地训练和推理\n",
    "由于Huggingface建议使用它们的云托管，所以本地训练模型需要一定的设置"
   ]
  },
  {
   "cell_type": "markdown",
   "metadata": {},
   "source": [
    "### 1. 修改模型配置"
   ]
  },
  {
   "cell_type": "markdown",
   "metadata": {},
   "source": [
    " 1. 修改模型配置文件：[lerobot/configs/policy/act_so100_real.yaml](lerobot/configs/policy/act_so100_real.yaml)中，注释掉所有有关``phone``摄像头的段落，如下：\n",
    "\n",
    "```yaml\n",
    "    ...\n",
    "    24: #  observation.images.phone:\n",
    "    25: #   # stats from imagenet, since we use a pretrained vision model\n",
    "    26: #   mean: [[[0.485]], [[0.456]], [[0.406]]]  # (c,1,1)\n",
    "    27: #   std: [[[0.229]], [[0.224]], [[0.225]]]  # (c,1,1)\n",
    "    ...\n",
    "    63: # observation.images.phone: [3, 480, 640]\n",
    "    ...\n",
    "    71: # observation.images.phone: mean_std\n",
    "    ...\n",
    "```"
   ]
  },
  {
   "cell_type": "markdown",
   "metadata": {},
   "source": [
    "  2. 修改数据集读取位置：在[lerobot/common/datasets/factory.py](lerobot/common/datasets/factory.py:99)的``video_backend=cfg.video_backend,``后面，加入如下代码："
   ]
  },
  {
   "cell_type": "code",
   "execution_count": null,
   "metadata": {},
   "outputs": [],
   "source": [
    "    local_files_only=cfg.local_only.enable,\n",
    "    root=cfg.local_only.path,"
   ]
  },
  {
   "cell_type": "markdown",
   "metadata": {},
   "source": [
    "  3. 增加hydra参数列表：[lerobot/configs/default.yaml](lerobot/configs/default.yaml:131)，文件末尾加入如下参数结构："
   ]
  },
  {
   "cell_type": "code",
   "execution_count": null,
   "metadata": {
    "vscode": {
     "languageId": "xml"
    }
   },
   "outputs": [],
   "source": [
    "local_only:\n",
    "  enable: true\n",
    "  path: ???"
   ]
  },
  {
   "cell_type": "markdown",
   "metadata": {},
   "source": [
    "### 2. 开始本地训练"
   ]
  },
  {
   "cell_type": "code",
   "execution_count": null,
   "metadata": {
    "vscode": {
     "languageId": "shellscript"
    }
   },
   "outputs": [],
   "source": [
    "python lerobot/scripts/train.py \\\n",
    "  policy=act_so100_real \\\n",
    "  env=so100_real \\\n",
    "  device=cuda \\\n",
    "  wandb.enable=false \\\n",
    "  local_only.enable=true \\\n",
    "  dataset_repo_id=task/so100_test \\\n",
    "  hydra.run.dir=outputs/train/act_so100_test \\\n",
    "  hydra.job.name=act_so100_test \\\n",
    "  local_only.path=datasets/so100_test "
   ]
  },
  {
   "cell_type": "markdown",
   "metadata": {
    "vscode": {
     "languageId": "shellscript"
    }
   },
   "source": [
    "其中重点关注策略模型配置：[lerobot/configs/policy/act_so100_real.yaml:30](lerobot/configs/policy/act_so100_real.yaml:30)的训练步数``offline_steps``，保存频率``save_freq``"
   ]
  },
  {
   "cell_type": "markdown",
   "metadata": {},
   "source": [
    "### 2. 开始推理\n",
    "推荐使用record函数中的tags为eval的模块进行推理，同时会自动记录推理的过程数据集，保存在以``eval_``开头的地址中。"
   ]
  },
  {
   "cell_type": "code",
   "execution_count": null,
   "metadata": {
    "vscode": {
     "languageId": "shellscript"
    }
   },
   "outputs": [],
   "source": [
    "python lerobot/scripts/control_robot.py record \\\n",
    "  --robot-path lerobot/configs/robot/so100.yaml \\\n",
    "  --fps 30 \\\n",
    "  --tags so100 tutorial eval \\\n",
    "  --warmup-time-s 5 \\\n",
    "  --episode-time-s 40 \\\n",
    "  --reset-time-s 10 \\\n",
    "  --num-episodes 10 \\\n",
    "  --repo-id task/eval_so100_test \\\n",
    "  --single-task eval_so100_test \\\n",
    "  -p outputs/train/act_so100_test/checkpoints/last/pretrained_model "
   ]
  },
  {
   "cell_type": "markdown",
   "metadata": {
    "vscode": {
     "languageId": "shellscript"
    }
   },
   "source": [
    "---"
   ]
  },
  {
   "cell_type": "markdown",
   "metadata": {
    "vscode": {
     "languageId": "shellscript"
    }
   },
   "source": [
    "---"
   ]
  },
  {
   "cell_type": "markdown",
   "metadata": {},
   "source": [
    "## (五)喝口水，准备进阶\n",
    "\n",
    "如果你按照步骤完成：``①机械臂配置 => ②数据集采集 => ③模型训练 => ④模型推理部署 => ⑤机械臂按照演示轨迹动起来``。\n",
    "\n",
    "那么，你已经入门啦！喝口水休息一下，回顾一路上的配环境过程，你肯定经历了一路坎坷，可能还有本文没有提到的ubuntu双系统安装、Nvidia驱动安装，pytorch安装等烦人漫长的过程。但转念一想，庆幸的是你已经是深度参与全球最火热的具身智能研究的技术大佬了，接下来的过程会比较方便，因为上述配置过程都是永久性的，可参数调节的。"
   ]
  },
  {
   "cell_type": "markdown",
   "metadata": {},
   "source": [
    "### 1. 下次采集数据、训练、推理只需要三条指令："
   ]
  },
  {
   "cell_type": "code",
   "execution_count": null,
   "metadata": {
    "vscode": {
     "languageId": "shellscript"
    }
   },
   "outputs": [],
   "source": [
    "# 1.数据录制\n",
    "python lerobot/scripts/control_robot.py record \\\n",
    "    --robot-path lerobot/configs/robot/so100.yaml \\\n",
    "    --fps 30 \\\n",
    "    --tags so100 tutorial \\\n",
    "    --warmup-time-s 5 \\\n",
    "    --episode-time-s 40 \\\n",
    "    --reset-time-s 10 \\\n",
    "    --num-episodes 你想录多少个数据如:50 \\\n",
    "    --push-to-hub 0 \\\n",
    "    --root datasets/换成你的任务的名字如:pick \\\n",
    "    --repo-id task/换成你的任务的名字如:pick \\\n",
    "    --single-task 换成你的任务的名字如:pick\n",
    "\n",
    "# 2.模型训练\n",
    "python lerobot/scripts/train.py \\\n",
    "  policy=act_so100_real \\\n",
    "  env=so100_real \\\n",
    "  device=cuda \\\n",
    "  wandb.enable=false \\\n",
    "  local_only.enable=true \\\n",
    "  dataset_repo_id=task/换成你的任务的名字如:pick \\\n",
    "  hydra.run.dir=outputs/train/换成你的任务的名字如:pick \\\n",
    "  hydra.job.name=换成你的任务的名字如:pick \\\n",
    "  local_only.path=datasets/换成你的任务的名字如:pick \n",
    "\n",
    "# 3. 模型推理\n",
    "python lerobot/scripts/control_robot.py record \\\n",
    "  --robot-path lerobot/configs/robot/so100.yaml \\\n",
    "  --fps 30 \\\n",
    "  --tags so100 tutorial eval \\\n",
    "  --warmup-time-s 5 \\\n",
    "  --episode-time-s 40 \\\n",
    "  --reset-time-s 10 \\\n",
    "  --num-episodes 10 \\\n",
    "  --repo-id task/eval_换成你的任务的名字如:pick \\\n",
    "  --single-task eval_换成你的任务的名字如:pick \\\n",
    "  -p outputs/train/act_换成你的任务的名字如:pick/checkpoints/last/pretrained_model \n",
    "  "
   ]
  },
  {
   "cell_type": "markdown",
   "metadata": {},
   "source": [
    "### 2. 优化小Tips\n",
    "\n",
    "如果你觉得任务执行效果不太满足自己的预期"
   ]
  },
  {
   "cell_type": "markdown",
   "metadata": {},
   "source": [
    "  1. 常调参数\n",
    "\n",
    "- [offline_steps](lerobot/configs/policy/act_so100_real.yaml:30): 训练更长的步数，将获得更稳定的模型。\n",
    "\n",
    "- [vision_backbone](lerobot/configs/policy/act_so100_real.yaml:78)：更强的图像编码器，也意味着更聪明的视觉模型，如resnet34\n",
    "\n",
    "- ``数据集``：模型执行的好坏，非常大程度的决定于数据采集的好坏\n",
    "  "
   ]
  },
  {
   "cell_type": "markdown",
   "metadata": {},
   "source": [
    "  2. 数据集优化\n",
    "\n",
    "- ``目标可视``：在机械臂运动过程中，一定要将目标物体始终可以被最少一个摄像头看到，如果没有出现在观察中即容易陷入停止或者不稳定。\n",
    "\n",
    "- ``泛化性 & 数据集大小``：通常情况下，更复杂的任务需要更大的数据集，有几个随机泛化范围，就需要多少个30条数据，如果从一个10cm X 10cm范围内抓取一个方块放置到一个10cm X 10cm范围内随机放置的盒子中，需要50组数据。\n",
    "\n",
    "- ``随机摆放``：推荐均匀分布摆放，避免因为训练时部分用于训练集和验证集是仅关注部分数据造成部分小数据未被训练到。"
   ]
  },
  {
   "cell_type": "markdown",
   "metadata": {},
   "source": [
    "### 3. 进阶模型\n",
    "\n",
    "Diffusion Policy通常被认为比ALoha-ACT的模型更聪明更具有泛化性，但是调试难度更大，训练不容易收敛，需要更大的数据和更多的步数，建议最少50组以上，其中[lerobot/configs/policy/diffusion.yaml](lerobot/configs/policy/diffusion.yaml)中有几个建议修改的参数："
   ]
  },
  {
   "cell_type": "markdown",
   "metadata": {},
   "source": [
    "- [n_action_steps](lerobot/configs/policy/diffusion.yaml:60): 增大任务推理步长到100左右，可以汲取ACT的部分优势，更好训练一些\n",
    "\n",
    "- [observation.imag](lerobot/configs/policy/diffusion.yaml:64)：增大图像输入尺寸，可退有更大的视野，建议修改为[3, 480, 640]\n",
    "\n",
    "- [crop_shape](lerobot/configs/policy/diffusion.yaml:79)：增大随机裁剪尺寸，输入图像尺寸为640x480，建议修改为[440， 560]，可以更快的收敛一些，但泛化性会相对下降\n"
   ]
  },
  {
   "cell_type": "markdown",
   "metadata": {},
   "source": [
    "### 5. 保持热爱，充满激情~\n",
    "\n",
    "（文档写到这里是2025年1月13日3:00，披星戴月，希望对你有帮助~ — — 盒子桥）"
   ]
  },
  {
   "cell_type": "markdown",
   "metadata": {},
   "source": [
    "## (六)手柄遥操作"
   ]
  },
  {
   "cell_type": "markdown",
   "metadata": {},
   "source": [
    "### 0. 环境配置\n",
    "\n",
    "手柄遥操作需要用到Joycon-robotics安装手柄驱动和遥操策略，以及正逆运动学库lerobot-kinematics，进行姿态结算。\n",
    "\n",
    "- [joycon-robotics](https://github.com/box2ai-robotics/joycon-robotics)\n",
    "\n",
    "- [lerobot-kinematics](https://github.com/box2ai-robotics/lerobot-kinematics)\n",
    "\n",
    "安装指令如下："
   ]
  },
  {
   "cell_type": "code",
   "execution_count": null,
   "metadata": {
    "vscode": {
     "languageId": "shellscript"
    }
   },
   "outputs": [],
   "source": [
    "# joycon-robotics\n",
    "git clone https://github.com/box2ai-robotics/joycon-robotics.git\n",
    "cd joycon-robotics\n",
    "pip install -e .\n",
    "make install\n",
    "cd ..\n",
    "\n",
    "# lerobot-kinematics\n",
    "git clone https://github.com/box2ai-robotics/lerobot-kinematics.git\n",
    "cd lerobot-kinematics\n",
    "pip install -e ."
   ]
  },
  {
   "cell_type": "markdown",
   "metadata": {},
   "source": [
    "### 1. 蓝牙连接"
   ]
  },
  {
   "cell_type": "markdown",
   "metadata": {
    "vscode": {
     "languageId": "shellscript"
    }
   },
   "source": [
    " 1. 首次连接：长按3秒遥控器侧边小圆按钮进行蓝牙配对，在电脑中的蓝牙设备搜索中将出现“Joy-Con(R)”或者“Joy-Con(R)”点击匹配连接。\n",
    " \n",
    " 2. 连接成功之后，手柄将按照一定频率震动。如果单手柄运行，则同时按住两个扳机按钮3秒，如果是双手柄同时使用，则两只手柄都开始震动之后，同时按下左手柄的上扳机键（L）和有手柄的上扳机键（R）。此后，系统将分配固定的进程进行单手柄或双手柄的连接守护。\n",
    " \n",
    " 3. 若已连接配对成功之后，下一次连接相同的电脑只需要按下上扳机键，即可自动搜索快速匹配，5秒内机会出现一定频率的“确定震动”，按照上一步的操作即可连接成功。"
   ]
  },
  {
   "cell_type": "markdown",
   "metadata": {},
   "source": [
    "### 2. 手柄遥操"
   ]
  },
  {
   "cell_type": "code",
   "execution_count": null,
   "metadata": {
    "vscode": {
     "languageId": "shellscript"
    }
   },
   "outputs": [],
   "source": [
    "python lerobot/scripts/control_robot.py teleoperate \\\n",
    "    --robot-path lerobot/configs/robot/so100_joycon_single.yaml "
   ]
  },
  {
   "cell_type": "markdown",
   "metadata": {},
   "source": [
    "如果出现报错ImportError: /lib/x86_64-linux-gnu/libstdc++.so.6: version `GLIBCXX_3.4.30' not found，是因为系统库地址有问题\n",
    "\n",
    "```shell\n",
    "  export LD_LIBRARY_PATH=$LD_LIBRARY_PATH:~/miniforge3/envs/lerobot/lib\n",
    "```"
   ]
  },
  {
   "cell_type": "code",
   "execution_count": null,
   "metadata": {
    "vscode": {
     "languageId": "shellscript"
    }
   },
   "outputs": [],
   "source": [
    "# 双臂 \n",
    "python lerobot/scripts/control_robot.py teleoperate \\\n",
    "    --robot-path lerobot/configs/robot/so100_joycon.yaml \n"
   ]
  },
  {
   "cell_type": "code",
   "execution_count": null,
   "metadata": {
    "vscode": {
     "languageId": "shellscript"
    }
   },
   "outputs": [],
   "source": [
    "# 1.数据录制\n",
    "python lerobot/scripts/control_robot.py record \\\n",
    "    --robot-path lerobot/configs/robot/so100_joycon.yaml \\\n",
    "    --fps 30 \\\n",
    "    --tags so100 tutorial \\\n",
    "    --warmup-time-s 5 \\\n",
    "    --episode-time-s 40 \\\n",
    "    --reset-time-s 10 \\\n",
    "    --num-episodes 2 \\\n",
    "    --push-to-hub 0 \\\n",
    "    --root datasets/pick \\\n",
    "    --repo-id task/pick \\\n",
    "    --single-task pick\n",
    "\n",
    "# 2.模型训练\n",
    "python lerobot/scripts/train.py \\\n",
    "  policy=act_so100_real \\\n",
    "  env=so100_real \\\n",
    "  device=cuda \\\n",
    "  wandb.enable=false \\\n",
    "  local_only.enable=true \\\n",
    "  dataset_repo_id=task/换成你的任务的名字如:pick \\\n",
    "  hydra.run.dir=outputs/train/换成你的任务的名字如:pick \\\n",
    "  hydra.job.name=换成你的任务的名字如:pick \\\n",
    "  local_only.path=datasets/换成你的任务的名字如:pick \n",
    "\n",
    "# 3. 模型推理\n",
    "python lerobot/scripts/control_robot.py record \\\n",
    "  --robot-path lerobot/configs/robot/so100.yaml \\\n",
    "  --fps 30 \\\n",
    "  --tags so100 tutorial eval \\\n",
    "  --warmup-time-s 5 \\\n",
    "  --episode-time-s 40 \\\n",
    "  --reset-time-s 10 \\\n",
    "  --num-episodes 10 \\\n",
    "  --repo-id task/eval_换成你的任务的名字如:pick \\\n",
    "  --single-task eval_换成你的任务的名字如:pick \\\n",
    "  -p outputs/train/act_换成你的任务的名字如:pick/checkpoints/last/pretrained_model \n",
    "  \n"
   ]
  },
  {
   "cell_type": "code",
   "execution_count": null,
   "metadata": {
    "vscode": {
     "languageId": "shellscript"
    }
   },
   "outputs": [],
   "source": []
  },
  {
   "cell_type": "code",
   "execution_count": null,
   "metadata": {
    "vscode": {
     "languageId": "shellscript"
    }
   },
   "outputs": [],
   "source": [
    "python lerobot/scripts/control_robot.py record \\\n",
    "    --robot-path lerobot/configs/robot/so100_joycon_single.yaml \\\n",
    "    --fps 30 \\\n",
    "    --tags so100 tutorial \\\n",
    "    --warmup-time-s 5 \\\n",
    "    --episode-time-s 15 \\\n",
    "    --reset-time-s 10 \\\n",
    "    --num-episodes 10"
   ]
  },
  {
   "cell_type": "markdown",
   "metadata": {},
   "source": []
  }
 ],
 "metadata": {
  "kernelspec": {
   "display_name": "aloha",
   "language": "python",
   "name": "python3"
  },
  "language_info": {
   "codemirror_mode": {
    "name": "ipython",
    "version": 3
   },
   "file_extension": ".py",
   "mimetype": "text/x-python",
   "name": "python",
   "nbconvert_exporter": "python",
   "pygments_lexer": "ipython3",
   "version": "3.8.20"
  }
 },
 "nbformat": 4,
 "nbformat_minor": 2
}
